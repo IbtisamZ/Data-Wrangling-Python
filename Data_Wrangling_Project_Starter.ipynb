{
 "cells": [
  {
   "cell_type": "markdown",
   "metadata": {
    "id": "GNIwe5N7s0e_"
   },
   "source": [
    "# Real-world Data Wrangling"
   ]
  },
  {
   "cell_type": "markdown",
   "metadata": {
    "id": "_BG63Tpg8ep_"
   },
   "source": [
    "In this project, you will apply the skills you acquired in the course to gather and wrangle real-world data with two datasets of your choice.\n",
    "\n",
    "You will retrieve and extract the data, assess the data programmatically and visually, accross elements of data quality and structure, and implement a cleaning strategy for the data. You will then store the updated data into your selected database/data store, combine the data, and answer a research question with the datasets.\n",
    "\n",
    "Throughout the process, you are expected to:\n",
    "\n",
    "1. Explain your decisions towards methods used for gathering, assessing, cleaning, storing, and answering the research question\n",
    "2. Write code comments so your code is more readable\n",
    "\n",
    "Before you start, install the some of the required packages. "
   ]
  },
  {
   "cell_type": "code",
   "execution_count": 1,
   "metadata": {},
   "outputs": [
    {
     "name": "stdout",
     "output_type": "stream",
     "text": [
      "Defaulting to user installation because normal site-packages is not writeable\n",
      "Collecting kaggle==1.6.12\n",
      "  Downloading kaggle-1.6.12.tar.gz (79 kB)\n",
      "\u001b[2K     \u001b[90m━━━━━━━━━━━━━━━━━━━━━━━━━━━━━━━━━━━━━━━\u001b[0m \u001b[32m79.7/79.7 kB\u001b[0m \u001b[31m702.1 kB/s\u001b[0m eta \u001b[36m0:00:00\u001b[0ma \u001b[36m0:00:01\u001b[0m\n",
      "\u001b[?25h  Preparing metadata (setup.py) ... \u001b[?25ldone\n",
      "\u001b[?25hRequirement already satisfied: six>=1.10 in /opt/conda/lib/python3.10/site-packages (from kaggle==1.6.12) (1.16.0)\n",
      "Collecting certifi>=2023.7.22\n",
      "  Downloading certifi-2024.6.2-py3-none-any.whl (164 kB)\n",
      "\u001b[2K     \u001b[90m━━━━━━━━━━━━━━━━━━━━━━━━━━━━━━━━━━━━━━━\u001b[0m \u001b[32m164.4/164.4 kB\u001b[0m \u001b[31m3.2 MB/s\u001b[0m eta \u001b[36m0:00:00\u001b[0ma \u001b[36m0:00:01\u001b[0m\n",
      "\u001b[?25hRequirement already satisfied: python-dateutil in /opt/conda/lib/python3.10/site-packages (from kaggle==1.6.12) (2.9.0.post0)\n",
      "Requirement already satisfied: requests in /opt/conda/lib/python3.10/site-packages (from kaggle==1.6.12) (2.29.0)\n",
      "Requirement already satisfied: tqdm in /opt/conda/lib/python3.10/site-packages (from kaggle==1.6.12) (4.65.0)\n",
      "Collecting python-slugify\n",
      "  Downloading python_slugify-8.0.4-py2.py3-none-any.whl (10 kB)\n",
      "Requirement already satisfied: urllib3 in /opt/conda/lib/python3.10/site-packages (from kaggle==1.6.12) (1.26.15)\n",
      "Requirement already satisfied: bleach in /opt/conda/lib/python3.10/site-packages (from kaggle==1.6.12) (6.1.0)\n",
      "Requirement already satisfied: webencodings in /opt/conda/lib/python3.10/site-packages (from bleach->kaggle==1.6.12) (0.5.1)\n",
      "Collecting text-unidecode>=1.3\n",
      "  Downloading text_unidecode-1.3-py2.py3-none-any.whl (78 kB)\n",
      "\u001b[2K     \u001b[90m━━━━━━━━━━━━━━━━━━━━━━━━━━━━━━━━━━━━━━━━\u001b[0m \u001b[32m78.2/78.2 kB\u001b[0m \u001b[31m11.8 MB/s\u001b[0m eta \u001b[36m0:00:00\u001b[0m\n",
      "\u001b[?25hRequirement already satisfied: charset-normalizer<4,>=2 in /opt/conda/lib/python3.10/site-packages (from requests->kaggle==1.6.12) (2.0.4)\n",
      "Requirement already satisfied: idna<4,>=2.5 in /opt/conda/lib/python3.10/site-packages (from requests->kaggle==1.6.12) (3.4)\n",
      "Building wheels for collected packages: kaggle\n",
      "  Building wheel for kaggle (setup.py) ... \u001b[?25ldone\n",
      "\u001b[?25h  Created wheel for kaggle: filename=kaggle-1.6.12-py3-none-any.whl size=102969 sha256=86ede728a48a68d8da9e54eaf39d6d2d18e7eda4ed3ea9282b0ae0b9be3997fd\n",
      "  Stored in directory: /home/student/.cache/pip/wheels/1e/0b/7c/50f8e89c3d2f82838dbd7afeddffbb9357003009ada98216c7\n",
      "Successfully built kaggle\n",
      "Installing collected packages: text-unidecode, python-slugify, certifi, kaggle\n",
      "\u001b[33m  WARNING: The script slugify is installed in '/home/student/.local/bin' which is not on PATH.\n",
      "  Consider adding this directory to PATH or, if you prefer to suppress this warning, use --no-warn-script-location.\u001b[0m\u001b[33m\n",
      "\u001b[0m\u001b[33m  WARNING: The script kaggle is installed in '/home/student/.local/bin' which is not on PATH.\n",
      "  Consider adding this directory to PATH or, if you prefer to suppress this warning, use --no-warn-script-location.\u001b[0m\u001b[33m\n",
      "\u001b[0mSuccessfully installed certifi-2024.6.2 kaggle-1.6.12 python-slugify-8.0.4 text-unidecode-1.3\n"
     ]
    }
   ],
   "source": [
    "!python -m pip install kaggle==1.6.12"
   ]
  },
  {
   "cell_type": "code",
   "execution_count": 2,
   "metadata": {},
   "outputs": [
    {
     "name": "stdout",
     "output_type": "stream",
     "text": [
      "Collecting ucimlrepo\n",
      "  Downloading ucimlrepo-0.0.7-py3-none-any.whl (8.0 kB)\n",
      "Collecting pandas>=1.0.0\n",
      "  Downloading pandas-2.2.2-cp310-cp310-manylinux_2_17_x86_64.manylinux2014_x86_64.whl (13.0 MB)\n",
      "\u001b[2K     \u001b[90m━━━━━━━━━━━━━━━━━━━━━━━━━━━━━━━━━━━━━━━━\u001b[0m \u001b[32m13.0/13.0 MB\u001b[0m \u001b[31m66.3 MB/s\u001b[0m eta \u001b[36m0:00:00\u001b[0m00:01\u001b[0m00:01\u001b[0m\n",
      "\u001b[?25hCollecting certifi>=2020.12.5\n",
      "  Using cached certifi-2024.6.2-py3-none-any.whl (164 kB)\n",
      "Collecting python-dateutil>=2.8.2\n",
      "  Downloading python_dateutil-2.9.0.post0-py2.py3-none-any.whl (229 kB)\n",
      "\u001b[2K     \u001b[90m━━━━━━━━━━━━━━━━━━━━━━━━━━━━━━━━━━━━━━\u001b[0m \u001b[32m229.9/229.9 kB\u001b[0m \u001b[31m28.6 MB/s\u001b[0m eta \u001b[36m0:00:00\u001b[0m\n",
      "\u001b[?25hCollecting pytz>=2020.1\n",
      "  Downloading pytz-2024.1-py2.py3-none-any.whl (505 kB)\n",
      "\u001b[2K     \u001b[90m━━━━━━━━━━━━━━━━━━━━━━━━━━━━━━━━━━━━━━\u001b[0m \u001b[32m505.5/505.5 kB\u001b[0m \u001b[31m41.6 MB/s\u001b[0m eta \u001b[36m0:00:00\u001b[0m\n",
      "\u001b[?25hCollecting tzdata>=2022.7\n",
      "  Downloading tzdata-2024.1-py2.py3-none-any.whl (345 kB)\n",
      "\u001b[2K     \u001b[90m━━━━━━━━━━━━━━━━━━━━━━━━━━━━━━━━━━━━━━\u001b[0m \u001b[32m345.4/345.4 kB\u001b[0m \u001b[31m39.2 MB/s\u001b[0m eta \u001b[36m0:00:00\u001b[0m\n",
      "\u001b[?25hCollecting numpy>=1.22.4\n",
      "  Downloading numpy-2.0.0-cp310-cp310-manylinux_2_17_x86_64.manylinux2014_x86_64.whl (19.3 MB)\n",
      "\u001b[2K     \u001b[90m━━━━━━━━━━━━━━━━━━━━━━━━━━━━━━━━━━━━━━━━\u001b[0m \u001b[32m19.3/19.3 MB\u001b[0m \u001b[31m62.7 MB/s\u001b[0m eta \u001b[36m0:00:00\u001b[0m00:01\u001b[0m00:01\u001b[0m\n",
      "\u001b[?25hCollecting six>=1.5\n",
      "  Downloading six-1.16.0-py2.py3-none-any.whl (11 kB)\n",
      "Installing collected packages: pytz, tzdata, six, numpy, certifi, python-dateutil, pandas, ucimlrepo\n",
      "\u001b[31mERROR: pip's dependency resolver does not currently take into account all the packages that are installed. This behaviour is the source of the following dependency conflicts.\n",
      "scipy 1.11.2 requires numpy<1.28.0,>=1.21.6, but you have numpy 2.0.0 which is incompatible.\u001b[0m\u001b[31m\n",
      "\u001b[0mSuccessfully installed certifi-2024.6.2 numpy-2.0.0 pandas-2.2.2 python-dateutil-2.9.0.post0 pytz-2024.1 six-1.16.0 tzdata-2024.1 ucimlrepo-0.0.7\n",
      "\u001b[33mWARNING: Target directory /workspace/pandas-2.2.2.dist-info already exists. Specify --upgrade to force replacement.\u001b[0m\u001b[33m\n",
      "\u001b[0m\u001b[33mWARNING: Target directory /workspace/tzdata-2024.1.dist-info already exists. Specify --upgrade to force replacement.\u001b[0m\u001b[33m\n",
      "\u001b[0m\u001b[33mWARNING: Target directory /workspace/tzdata already exists. Specify --upgrade to force replacement.\u001b[0m\u001b[33m\n",
      "\u001b[0m\u001b[33mWARNING: Target directory /workspace/certifi-2024.6.2.dist-info already exists. Specify --upgrade to force replacement.\u001b[0m\u001b[33m\n",
      "\u001b[0m\u001b[33mWARNING: Target directory /workspace/numpy-2.0.0.dist-info already exists. Specify --upgrade to force replacement.\u001b[0m\u001b[33m\n",
      "\u001b[0m\u001b[33mWARNING: Target directory /workspace/dateutil already exists. Specify --upgrade to force replacement.\u001b[0m\u001b[33m\n",
      "\u001b[0m\u001b[33mWARNING: Target directory /workspace/pandas already exists. Specify --upgrade to force replacement.\u001b[0m\u001b[33m\n",
      "\u001b[0m\u001b[33mWARNING: Target directory /workspace/pytz-2024.1.dist-info already exists. Specify --upgrade to force replacement.\u001b[0m\u001b[33m\n",
      "\u001b[0m\u001b[33mWARNING: Target directory /workspace/six-1.16.0.dist-info already exists. Specify --upgrade to force replacement.\u001b[0m\u001b[33m\n",
      "\u001b[0m\u001b[33mWARNING: Target directory /workspace/ucimlrepo already exists. Specify --upgrade to force replacement.\u001b[0m\u001b[33m\n",
      "\u001b[0m\u001b[33mWARNING: Target directory /workspace/certifi already exists. Specify --upgrade to force replacement.\u001b[0m\u001b[33m\n",
      "\u001b[0m\u001b[33mWARNING: Target directory /workspace/numpy already exists. Specify --upgrade to force replacement.\u001b[0m\u001b[33m\n",
      "\u001b[0m\u001b[33mWARNING: Target directory /workspace/pytz already exists. Specify --upgrade to force replacement.\u001b[0m\u001b[33m\n",
      "\u001b[0m\u001b[33mWARNING: Target directory /workspace/numpy.libs already exists. Specify --upgrade to force replacement.\u001b[0m\u001b[33m\n",
      "\u001b[0m\u001b[33mWARNING: Target directory /workspace/ucimlrepo-0.0.7.dist-info already exists. Specify --upgrade to force replacement.\u001b[0m\u001b[33m\n",
      "\u001b[0m\u001b[33mWARNING: Target directory /workspace/python_dateutil-2.9.0.post0.dist-info already exists. Specify --upgrade to force replacement.\u001b[0m\u001b[33m\n",
      "\u001b[0m\u001b[33mWARNING: Target directory /workspace/six.py already exists. Specify --upgrade to force replacement.\u001b[0m\u001b[33m\n",
      "\u001b[0m\u001b[33mWARNING: Target directory /workspace/__pycache__ already exists. Specify --upgrade to force replacement.\u001b[0m\u001b[33m\n",
      "\u001b[0m\u001b[33mWARNING: Target directory /workspace/bin already exists. Specify --upgrade to force replacement.\u001b[0m\u001b[33m\n",
      "\u001b[0m"
     ]
    }
   ],
   "source": [
    "!pip install --target=/workspace ucimlrepo"
   ]
  },
  {
   "cell_type": "markdown",
   "metadata": {},
   "source": [
    "**Note:** Restart the kernel to use updated package(s)."
   ]
  },
  {
   "cell_type": "markdown",
   "metadata": {
    "id": "lDYDkH-Zs7Nn"
   },
   "source": [
    "## 1. Gather data\n",
    "\n",
    "In this section, you will extract data using two different data gathering methods and combine the data. Use at least two different types of data-gathering methods."
   ]
  },
  {
   "cell_type": "markdown",
   "metadata": {
    "id": "LbN7z7rcuqpO"
   },
   "source": [
    "### **1.1.** Problem Statement\n",
    "\n",
    "For this project, we will be analyzing a movie dataset pulled from Rotten Tomatoes. Rotten Tomatoes is a platform that enables both critics and regular viewers to review and rate movies. We're **mainly** interested in getting to know whether there's a correlation between movies that have the highest rating, and movies that have the max box office (revenue)?"
   ]
  },
  {
   "cell_type": "code",
   "execution_count": 2,
   "metadata": {
    "id": "Su8E0uLuYkHU"
   },
   "outputs": [
    {
     "name": "stdout",
     "output_type": "stream",
     "text": [
      "Defaulting to user installation because normal site-packages is not writeable\n",
      "Requirement already satisfied: matplotlib in /home/student/.local/lib/python3.10/site-packages (3.9.0)\n",
      "Requirement already satisfied: cycler>=0.10 in /opt/conda/lib/python3.10/site-packages (from matplotlib) (0.12.1)\n",
      "Requirement already satisfied: fonttools>=4.22.0 in /opt/conda/lib/python3.10/site-packages (from matplotlib) (4.51.0)\n",
      "Requirement already satisfied: kiwisolver>=1.3.1 in /opt/conda/lib/python3.10/site-packages (from matplotlib) (1.4.5)\n",
      "Requirement already satisfied: pillow>=8 in /opt/conda/lib/python3.10/site-packages (from matplotlib) (9.4.0)\n",
      "Requirement already satisfied: contourpy>=1.0.1 in /opt/conda/lib/python3.10/site-packages (from matplotlib) (1.2.1)\n",
      "Requirement already satisfied: python-dateutil>=2.7 in /opt/conda/lib/python3.10/site-packages (from matplotlib) (2.9.0.post0)\n",
      "Requirement already satisfied: numpy>=1.23 in /opt/conda/lib/python3.10/site-packages (from matplotlib) (1.24.3)\n",
      "Requirement already satisfied: pyparsing>=2.3.1 in /opt/conda/lib/python3.10/site-packages (from matplotlib) (3.0.9)\n",
      "Requirement already satisfied: packaging>=20.0 in /opt/conda/lib/python3.10/site-packages (from matplotlib) (23.0)\n",
      "Requirement already satisfied: six>=1.5 in /opt/conda/lib/python3.10/site-packages (from python-dateutil>=2.7->matplotlib) (1.16.0)\n"
     ]
    }
   ],
   "source": [
    "!pip install --upgrade matplotlib"
   ]
  },
  {
   "cell_type": "code",
   "execution_count": 1,
   "metadata": {},
   "outputs": [],
   "source": [
    "# import packages\n",
    "import requests\n",
    "import base64\n",
    "import zipfile\n",
    "import io\n",
    "import pandas as pd\n",
    "import matplotlib.pyplot as plt\n",
    "import matplotlib as mpl"
   ]
  },
  {
   "cell_type": "markdown",
   "metadata": {
    "id": "7e6gS0wL1KTu"
   },
   "source": [
    "#### **Dataset 1**\n",
    "\n",
    "Type: CSV file\n",
    "\n",
    "Method: The data was gathered using an API from Kaggle (https://www.kaggle.com/datasets/andrezaza/clapper-massive-rotten-tomatoes-movies-and-reviews?select=rotten_tomatoes_movies.csv).\n",
    "\n",
    "Dataset variables:\n",
    "\n",
    " \n",
    "*   **Variable 1:** id (Unique identifier for each movie)\n",
    "*   **Variable 2:** title (The title of the movie)\n",
    "*   **Variable 3:** audienceScore (The average score given by regular viewers)\n",
    "*   **Variable 4:** tomatoMeter (The percentage of positive reviews from professional critics)\n",
    "*   **Variable 5:** rating (The movie's age-based classification (e.g., G, PG, PG-13, R))\n",
    "*   **Variable 6:** ratingContent (Content leading to the rating classification)\n",
    "*   **Variable 7:** releaseDateTheaters (The date the movie was released in theaters)\n",
    "*   **Variable 8:** releaseDateStreaming (The date the movie became available for streaming)\n",
    "*   **Variable 9:** runtimeMinutes (The duration of the movie in minutes)\n",
    "*   **Variable 10:** genre (The movie's genre(s))\n",
    "*   **Variable 11:** originalLanguage (The original language of the movie)\n",
    "*   **Variable 12:** director (The movie's director)\n",
    "*   **Variable 13:** writer (The writer(s) responsible for the movie's screenplay)\n",
    "*   **Variable 14:** boxOffice (The movie's total box office revenue)\n",
    "*   **Variable 15:** distributor (The company responsible for distributing the movie)\n",
    "*   **Variable 16:** soundMix (The audio format(s) used in the movie)\n"
   ]
  },
  {
   "cell_type": "code",
   "execution_count": 2,
   "metadata": {},
   "outputs": [],
   "source": [
    "#1: Preparing URL\n",
    "base_url = \"https://www.kaggle.com/api/v1\"\n",
    "owner_slug = \"andrezaza\"\n",
    "dataset_slug = \"clapper-massive-rotten-tomatoes-movies-and-reviews\"\n",
    "\n",
    "url = f\"{base_url}/datasets/download/{owner_slug}/{dataset_slug}\"\n",
    "\n",
    "#2: Encoding the credentials & preparing the request header\n",
    "username = \"ibtisamz9\"\n",
    "key = \"486bd3a9666025622d05d6e5be5e7a8d\"\n",
    "creds = base64.b64encode(bytes(f\"{username}:{key}\", \"ISO-8859-1\")).decode(\"ascii\")\n",
    "headers = {\n",
    "  \"Authorization\": f\"Basic {creds}\"\n",
    "}\n",
    "\n",
    "#3: Sending a GET request\n",
    "response = requests.get(url, headers=headers)\n",
    "\n",
    "#4: Loading the response via zipfile\n",
    "zf = zipfile.ZipFile(io.BytesIO(response.content))\n",
    "\n",
    "#5: Reading the CSV from the zip file and converting it to a dataframe\n",
    "file_name = \"rotten_tomatoes_movies.csv\"\n",
    "movies_df = pd.read_csv(zf.open(file_name))"
   ]
  },
  {
   "cell_type": "code",
   "execution_count": 3,
   "metadata": {},
   "outputs": [
    {
     "name": "stdout",
     "output_type": "stream",
     "text": [
      "<class 'pandas.core.frame.DataFrame'>\n",
      "RangeIndex: 143258 entries, 0 to 143257\n",
      "Data columns (total 16 columns):\n",
      " #   Column                Non-Null Count   Dtype  \n",
      "---  ------                --------------   -----  \n",
      " 0   id                    143258 non-null  object \n",
      " 1   title                 142891 non-null  object \n",
      " 2   audienceScore         73248 non-null   float64\n",
      " 3   tomatoMeter           33877 non-null   float64\n",
      " 4   rating                13991 non-null   object \n",
      " 5   ratingContents        13991 non-null   object \n",
      " 6   releaseDateTheaters   30773 non-null   object \n",
      " 7   releaseDateStreaming  79420 non-null   object \n",
      " 8   runtimeMinutes        129431 non-null  float64\n",
      " 9   genre                 132175 non-null  object \n",
      " 10  originalLanguage      129400 non-null  object \n",
      " 11  director              139041 non-null  object \n",
      " 12  writer                90116 non-null   object \n",
      " 13  boxOffice             14743 non-null   object \n",
      " 14  distributor           23001 non-null   object \n",
      " 15  soundMix              15917 non-null   object \n",
      "dtypes: float64(3), object(13)\n",
      "memory usage: 17.5+ MB\n"
     ]
    }
   ],
   "source": [
    "movies_df.info()"
   ]
  },
  {
   "cell_type": "markdown",
   "metadata": {
    "id": "hoUjq1tPzz7P"
   },
   "source": [
    "#### **Dataset 2**\n",
    "\n",
    "Type: CSV file\n",
    "\n",
    "Method: The data was gathered by manually downloading from Kaggle (https://www.kaggle.com/datasets/andrezaza/clapper-massive-rotten-tomatoes-movies-and-reviews?select=rotten_tomatoes_movie_reviews.csv)\n",
    "\n",
    "Dataset variables:\n",
    "\n",
    " \n",
    "*   **Variable 1:** id (Unique identifier for each movie)\n",
    "*   **Variable 2:** reviewId (Unique identifier for each critic review)\n",
    "*   **Variable 3:** creationDate (The date the review was published)\n",
    "*   **Variable 4:** criticName (The name of the critic who wrote the review)\n",
    "*   **Variable 5:** isTopCritic (A boolean value indicating if the critic is considered a top critic)\n",
    "*   **Variable 6:** originalScore (The score provided by the critic)\n",
    "*   **Variable 7:** reviewState (The status of the review (e.g., fresh, rotten))\n",
    "*   **Variable 8:** publicationName (The name of the publication where the review was published)\n",
    "*   **Variable 9:** reviewText (The full text of the critic review)\n",
    "*   **Variable 10:** scoreSentiment (The sentiment of the critic's score (e.g., positive, negative, neutral))\n",
    "*   **Variable 11:** reviewUrl (The URL of the original review on Rotten Tomatoes)"
   ]
  },
  {
   "cell_type": "code",
   "execution_count": 4,
   "metadata": {},
   "outputs": [],
   "source": [
    "reviews_df = pd.read_csv('rotten_tomatoes_movie_reviews.csv')"
   ]
  },
  {
   "cell_type": "code",
   "execution_count": 5,
   "metadata": {},
   "outputs": [
    {
     "name": "stdout",
     "output_type": "stream",
     "text": [
      "<class 'pandas.core.frame.DataFrame'>\n",
      "RangeIndex: 1444963 entries, 0 to 1444962\n",
      "Data columns (total 11 columns):\n",
      " #   Column          Non-Null Count    Dtype \n",
      "---  ------          --------------    ----- \n",
      " 0   id              1444963 non-null  object\n",
      " 1   reviewId        1444963 non-null  int64 \n",
      " 2   creationDate    1444963 non-null  object\n",
      " 3   criticName      1444963 non-null  object\n",
      " 4   isTopCritic     1444963 non-null  bool  \n",
      " 5   originalScore   1009745 non-null  object\n",
      " 6   reviewState     1444963 non-null  object\n",
      " 7   publicatioName  1444963 non-null  object\n",
      " 8   reviewText      1375738 non-null  object\n",
      " 9   scoreSentiment  1444963 non-null  object\n",
      " 10  reviewUrl       1234038 non-null  object\n",
      "dtypes: bool(1), int64(1), object(9)\n",
      "memory usage: 111.6+ MB\n"
     ]
    }
   ],
   "source": [
    "reviews_df.info()"
   ]
  },
  {
   "cell_type": "markdown",
   "metadata": {
    "id": "QwSWIVmotLgV"
   },
   "source": [
    "## 2. Assess data\n",
    "\n",
    "There are some quality & tidiness issues that have been identified throughout data observation, let's check them out!\n",
    "\n",
    "First off, let's recall the dimensions/requirements of both data tidiness and quality:\n",
    "\n",
    "\n",
    "Data tidiness:\n",
    "* Each variable forms a column\n",
    "* Each observation forms a row\n",
    "* Each type of observational unit forms a table\n",
    "\n",
    "Data quality:\n",
    "* Completeness\n",
    "* Validity\n",
    "* Accuracy\n",
    "* Consistency\n",
    "* Uniqueness"
   ]
  },
  {
   "cell_type": "markdown",
   "metadata": {
    "id": "adaK2iPNzVu4"
   },
   "source": [
    "### Quality Issue 1: Completeness"
   ]
  },
  {
   "cell_type": "markdown",
   "metadata": {},
   "source": [
    "Checking for missing values in both dataset:"
   ]
  },
  {
   "cell_type": "code",
   "execution_count": 6,
   "metadata": {
    "id": "SpW59kh-zl8d"
   },
   "outputs": [
    {
     "data": {
      "text/html": [
       "<div>\n",
       "<style scoped>\n",
       "    .dataframe tbody tr th:only-of-type {\n",
       "        vertical-align: middle;\n",
       "    }\n",
       "\n",
       "    .dataframe tbody tr th {\n",
       "        vertical-align: top;\n",
       "    }\n",
       "\n",
       "    .dataframe thead th {\n",
       "        text-align: right;\n",
       "    }\n",
       "</style>\n",
       "<table border=\"1\" class=\"dataframe\">\n",
       "  <thead>\n",
       "    <tr style=\"text-align: right;\">\n",
       "      <th></th>\n",
       "      <th>id</th>\n",
       "      <th>title</th>\n",
       "      <th>audienceScore</th>\n",
       "      <th>tomatoMeter</th>\n",
       "      <th>rating</th>\n",
       "      <th>ratingContents</th>\n",
       "      <th>releaseDateTheaters</th>\n",
       "      <th>releaseDateStreaming</th>\n",
       "      <th>runtimeMinutes</th>\n",
       "      <th>genre</th>\n",
       "      <th>originalLanguage</th>\n",
       "      <th>director</th>\n",
       "      <th>writer</th>\n",
       "      <th>boxOffice</th>\n",
       "      <th>distributor</th>\n",
       "      <th>soundMix</th>\n",
       "    </tr>\n",
       "  </thead>\n",
       "  <tbody>\n",
       "    <tr>\n",
       "      <th>138702</th>\n",
       "      <td>the_christmas_tree_1969</td>\n",
       "      <td>The Christmas Tree</td>\n",
       "      <td>82.0</td>\n",
       "      <td>NaN</td>\n",
       "      <td>NaN</td>\n",
       "      <td>NaN</td>\n",
       "      <td>NaN</td>\n",
       "      <td>NaN</td>\n",
       "      <td>110.0</td>\n",
       "      <td>Drama</td>\n",
       "      <td>English</td>\n",
       "      <td>Terence Young</td>\n",
       "      <td>NaN</td>\n",
       "      <td>NaN</td>\n",
       "      <td>NaN</td>\n",
       "      <td>NaN</td>\n",
       "    </tr>\n",
       "    <tr>\n",
       "      <th>111089</th>\n",
       "      <td>seven_years_of_night</td>\n",
       "      <td>Seven Years of Night</td>\n",
       "      <td>67.0</td>\n",
       "      <td>NaN</td>\n",
       "      <td>NaN</td>\n",
       "      <td>NaN</td>\n",
       "      <td>2018-04-06</td>\n",
       "      <td>NaN</td>\n",
       "      <td>123.0</td>\n",
       "      <td>Mystery &amp; thriller</td>\n",
       "      <td>Korean</td>\n",
       "      <td>Choo Chang-min</td>\n",
       "      <td>Choo Chang-min,Jeong You-jeong</td>\n",
       "      <td>$13.2K</td>\n",
       "      <td>CJ Entertainment</td>\n",
       "      <td>NaN</td>\n",
       "    </tr>\n",
       "    <tr>\n",
       "      <th>86040</th>\n",
       "      <td>random_hearts</td>\n",
       "      <td>Random Hearts</td>\n",
       "      <td>24.0</td>\n",
       "      <td>15.0</td>\n",
       "      <td>R</td>\n",
       "      <td>['Language', 'Brief Violence', 'Sexuality']</td>\n",
       "      <td>1999-10-08</td>\n",
       "      <td>2000-02-29</td>\n",
       "      <td>133.0</td>\n",
       "      <td>Drama</td>\n",
       "      <td>English</td>\n",
       "      <td>Sydney Pollack</td>\n",
       "      <td>Daniel Poniscan,Kurt Luedtke</td>\n",
       "      <td>$31.1M</td>\n",
       "      <td>Columbia Pictures, Sony Pictures Entertainment</td>\n",
       "      <td>Dolby SR, DTS, Dolby Stereo, Surround, SDDS, D...</td>\n",
       "    </tr>\n",
       "  </tbody>\n",
       "</table>\n",
       "</div>"
      ],
      "text/plain": [
       "                             id                 title  audienceScore  \\\n",
       "138702  the_christmas_tree_1969    The Christmas Tree           82.0   \n",
       "111089     seven_years_of_night  Seven Years of Night           67.0   \n",
       "86040             random_hearts         Random Hearts           24.0   \n",
       "\n",
       "        tomatoMeter rating                               ratingContents  \\\n",
       "138702          NaN    NaN                                          NaN   \n",
       "111089          NaN    NaN                                          NaN   \n",
       "86040          15.0      R  ['Language', 'Brief Violence', 'Sexuality']   \n",
       "\n",
       "       releaseDateTheaters releaseDateStreaming  runtimeMinutes  \\\n",
       "138702                 NaN                  NaN           110.0   \n",
       "111089          2018-04-06                  NaN           123.0   \n",
       "86040           1999-10-08           2000-02-29           133.0   \n",
       "\n",
       "                     genre originalLanguage        director  \\\n",
       "138702               Drama          English   Terence Young   \n",
       "111089  Mystery & thriller           Korean  Choo Chang-min   \n",
       "86040                Drama          English  Sydney Pollack   \n",
       "\n",
       "                                writer boxOffice  \\\n",
       "138702                             NaN       NaN   \n",
       "111089  Choo Chang-min,Jeong You-jeong    $13.2K   \n",
       "86040     Daniel Poniscan,Kurt Luedtke    $31.1M   \n",
       "\n",
       "                                           distributor  \\\n",
       "138702                                             NaN   \n",
       "111089                                CJ Entertainment   \n",
       "86040   Columbia Pictures, Sony Pictures Entertainment   \n",
       "\n",
       "                                                 soundMix  \n",
       "138702                                                NaN  \n",
       "111089                                                NaN  \n",
       "86040   Dolby SR, DTS, Dolby Stereo, Surround, SDDS, D...  "
      ]
     },
     "execution_count": 6,
     "metadata": {},
     "output_type": "execute_result"
    }
   ],
   "source": [
    "# Inspecting movies_df visually\n",
    "movies_df.sample(3)"
   ]
  },
  {
   "cell_type": "code",
   "execution_count": 7,
   "metadata": {
    "id": "SpW59kh-zl8d"
   },
   "outputs": [
    {
     "data": {
      "text/html": [
       "<div>\n",
       "<style scoped>\n",
       "    .dataframe tbody tr th:only-of-type {\n",
       "        vertical-align: middle;\n",
       "    }\n",
       "\n",
       "    .dataframe tbody tr th {\n",
       "        vertical-align: top;\n",
       "    }\n",
       "\n",
       "    .dataframe thead th {\n",
       "        text-align: right;\n",
       "    }\n",
       "</style>\n",
       "<table border=\"1\" class=\"dataframe\">\n",
       "  <thead>\n",
       "    <tr style=\"text-align: right;\">\n",
       "      <th></th>\n",
       "      <th>id</th>\n",
       "      <th>reviewId</th>\n",
       "      <th>creationDate</th>\n",
       "      <th>criticName</th>\n",
       "      <th>isTopCritic</th>\n",
       "      <th>originalScore</th>\n",
       "      <th>reviewState</th>\n",
       "      <th>publicatioName</th>\n",
       "      <th>reviewText</th>\n",
       "      <th>scoreSentiment</th>\n",
       "      <th>reviewUrl</th>\n",
       "    </tr>\n",
       "  </thead>\n",
       "  <tbody>\n",
       "    <tr>\n",
       "      <th>761243</th>\n",
       "      <td>10005047-blue_bird</td>\n",
       "      <td>1455526</td>\n",
       "      <td>2005-11-23</td>\n",
       "      <td>Ken Hanke</td>\n",
       "      <td>False</td>\n",
       "      <td>2.5/5</td>\n",
       "      <td>rotten</td>\n",
       "      <td>Mountain Xpress (Asheville, NC)</td>\n",
       "      <td>It seems to be a contest over who can deliver ...</td>\n",
       "      <td>NEGATIVE</td>\n",
       "      <td>http://www.mountainx.com/movies/b/thebluebird.php</td>\n",
       "    </tr>\n",
       "    <tr>\n",
       "      <th>488692</th>\n",
       "      <td>clerks_2</td>\n",
       "      <td>1527283</td>\n",
       "      <td>2006-07-24</td>\n",
       "      <td>Mark Dujsik</td>\n",
       "      <td>False</td>\n",
       "      <td>3.5/4</td>\n",
       "      <td>fresh</td>\n",
       "      <td>Mark Reviews Movies</td>\n",
       "      <td>A more than worthy display of Smith's ear for ...</td>\n",
       "      <td>POSITIVE</td>\n",
       "      <td>http://www.markreviewsmovies.com/reviews/C/cle...</td>\n",
       "    </tr>\n",
       "    <tr>\n",
       "      <th>1312404</th>\n",
       "      <td>gerry</td>\n",
       "      <td>839056</td>\n",
       "      <td>2003-02-04</td>\n",
       "      <td>David Nusair</td>\n",
       "      <td>False</td>\n",
       "      <td>2.5/4</td>\n",
       "      <td>fresh</td>\n",
       "      <td>Reel Film Reviews</td>\n",
       "      <td>...there's no denying that Van Sant has crafte...</td>\n",
       "      <td>POSITIVE</td>\n",
       "      <td>http://reelfilm.com/vansant.htm#gerry</td>\n",
       "    </tr>\n",
       "  </tbody>\n",
       "</table>\n",
       "</div>"
      ],
      "text/plain": [
       "                         id  reviewId creationDate    criticName  isTopCritic  \\\n",
       "761243   10005047-blue_bird   1455526   2005-11-23     Ken Hanke        False   \n",
       "488692             clerks_2   1527283   2006-07-24   Mark Dujsik        False   \n",
       "1312404               gerry    839056   2003-02-04  David Nusair        False   \n",
       "\n",
       "        originalScore reviewState                   publicatioName  \\\n",
       "761243          2.5/5      rotten  Mountain Xpress (Asheville, NC)   \n",
       "488692          3.5/4       fresh              Mark Reviews Movies   \n",
       "1312404         2.5/4       fresh                Reel Film Reviews   \n",
       "\n",
       "                                                reviewText scoreSentiment  \\\n",
       "761243   It seems to be a contest over who can deliver ...       NEGATIVE   \n",
       "488692   A more than worthy display of Smith's ear for ...       POSITIVE   \n",
       "1312404  ...there's no denying that Van Sant has crafte...       POSITIVE   \n",
       "\n",
       "                                                 reviewUrl  \n",
       "761243   http://www.mountainx.com/movies/b/thebluebird.php  \n",
       "488692   http://www.markreviewsmovies.com/reviews/C/cle...  \n",
       "1312404              http://reelfilm.com/vansant.htm#gerry  "
      ]
     },
     "execution_count": 7,
     "metadata": {},
     "output_type": "execute_result"
    }
   ],
   "source": [
    "# Inspecting reviews_df visually\n",
    "reviews_df.sample(3)"
   ]
  },
  {
   "cell_type": "code",
   "execution_count": 8,
   "metadata": {
    "id": "-qfcocStzsKg"
   },
   "outputs": [
    {
     "data": {
      "text/plain": [
       "id                           0\n",
       "title                      367\n",
       "audienceScore            70010\n",
       "tomatoMeter             109381\n",
       "rating                  129267\n",
       "ratingContents          129267\n",
       "releaseDateTheaters     112485\n",
       "releaseDateStreaming     63838\n",
       "runtimeMinutes           13827\n",
       "genre                    11083\n",
       "originalLanguage         13858\n",
       "director                  4217\n",
       "writer                   53142\n",
       "boxOffice               128515\n",
       "distributor             120257\n",
       "soundMix                127341\n",
       "dtype: int64"
      ]
     },
     "execution_count": 8,
     "metadata": {},
     "output_type": "execute_result"
    }
   ],
   "source": [
    "# Inspecting movies_df programmatically\n",
    "movies_df.isnull().sum()"
   ]
  },
  {
   "cell_type": "code",
   "execution_count": 9,
   "metadata": {
    "id": "-qfcocStzsKg"
   },
   "outputs": [
    {
     "data": {
      "text/plain": [
       "id                     0\n",
       "reviewId               0\n",
       "creationDate           0\n",
       "criticName             0\n",
       "isTopCritic            0\n",
       "originalScore     435218\n",
       "reviewState            0\n",
       "publicatioName         0\n",
       "reviewText         69225\n",
       "scoreSentiment         0\n",
       "reviewUrl         210925\n",
       "dtype: int64"
      ]
     },
     "execution_count": 9,
     "metadata": {},
     "output_type": "execute_result"
    }
   ],
   "source": [
    "# Inspecting reviews_df programmatically\n",
    "reviews_df.isnull().sum()"
   ]
  },
  {
   "cell_type": "markdown",
   "metadata": {},
   "source": [
    "**Issue and justification:**\n",
    "> Based on inspecting both visually and programmatically, we can see that we have missing values across many columns in both datasets, some could be useless but others could be handled since they would majorly affect our findings later."
   ]
  },
  {
   "cell_type": "markdown",
   "metadata": {
    "id": "8Be77N4I1AmE"
   },
   "source": [
    "### Quality Issue 2: Validity\n",
    "\n",
    "**2.1:** We can notice how date is an object and not of a datetime type."
   ]
  },
  {
   "cell_type": "code",
   "execution_count": 10,
   "metadata": {
    "id": "iMhHyiyLM2I3"
   },
   "outputs": [
    {
     "data": {
      "text/plain": [
       "0         2018-08-25\n",
       "1         2020-02-11\n",
       "2                NaN\n",
       "3         2020-10-23\n",
       "4         2017-03-27\n",
       "             ...    \n",
       "143253           NaN\n",
       "143254           NaN\n",
       "143255           NaN\n",
       "143256    2006-11-21\n",
       "143257           NaN\n",
       "Name: releaseDateStreaming, Length: 143258, dtype: object"
      ]
     },
     "execution_count": 10,
     "metadata": {},
     "output_type": "execute_result"
    }
   ],
   "source": [
    "# Inspecting movies_df visually\n",
    "\n",
    "movies_df['releaseDateTheaters']\n",
    "movies_df['releaseDateStreaming']"
   ]
  },
  {
   "cell_type": "code",
   "execution_count": 11,
   "metadata": {
    "id": "iMhHyiyLM2I3"
   },
   "outputs": [
    {
     "data": {
      "text/plain": [
       "0          2003-05-23\n",
       "1          2007-06-02\n",
       "2          2019-05-28\n",
       "3          2019-02-14\n",
       "4          2018-08-29\n",
       "              ...    \n",
       "1444958    2022-07-05\n",
       "1444959    2022-07-05\n",
       "1444960    2022-07-05\n",
       "1444961    2022-07-05\n",
       "1444962    2022-07-05\n",
       "Name: creationDate, Length: 1444963, dtype: object"
      ]
     },
     "execution_count": 11,
     "metadata": {},
     "output_type": "execute_result"
    }
   ],
   "source": [
    "# Inspecting reviews_df visually\n",
    "reviews_df['creationDate']"
   ]
  },
  {
   "cell_type": "code",
   "execution_count": 12,
   "metadata": {
    "id": "bnviRCUI-bb7"
   },
   "outputs": [
    {
     "name": "stdout",
     "output_type": "stream",
     "text": [
      "<class 'pandas.core.frame.DataFrame'>\n",
      "RangeIndex: 143258 entries, 0 to 143257\n",
      "Data columns (total 2 columns):\n",
      " #   Column                Non-Null Count  Dtype \n",
      "---  ------                --------------  ----- \n",
      " 0   releaseDateStreaming  79420 non-null  object\n",
      " 1   releaseDateTheaters   30773 non-null  object\n",
      "dtypes: object(2)\n",
      "memory usage: 2.2+ MB\n"
     ]
    }
   ],
   "source": [
    "# Inspecting movies_df programmatically\n",
    "movies_df[['releaseDateStreaming', 'releaseDateTheaters']].info()"
   ]
  },
  {
   "cell_type": "code",
   "execution_count": 13,
   "metadata": {
    "id": "bnviRCUI-bb7"
   },
   "outputs": [
    {
     "name": "stdout",
     "output_type": "stream",
     "text": [
      "<class 'pandas.core.series.Series'>\n",
      "RangeIndex: 1444963 entries, 0 to 1444962\n",
      "Series name: creationDate\n",
      "Non-Null Count    Dtype \n",
      "--------------    ----- \n",
      "1444963 non-null  object\n",
      "dtypes: object(1)\n",
      "memory usage: 11.0+ MB\n"
     ]
    }
   ],
   "source": [
    "# Inspecting reviews_df programmatically\n",
    "reviews_df['creationDate'].info()"
   ]
  },
  {
   "cell_type": "markdown",
   "metadata": {},
   "source": [
    "____"
   ]
  },
  {
   "cell_type": "markdown",
   "metadata": {},
   "source": [
    "**2.2:** We see the `box office` values are not numbers but rather a string."
   ]
  },
  {
   "cell_type": "code",
   "execution_count": 14,
   "metadata": {
    "id": "iMhHyiyLM2I3"
   },
   "outputs": [
    {
     "data": {
      "text/plain": [
       "58403     NaN\n",
       "75248     NaN\n",
       "115227    NaN\n",
       "119637    NaN\n",
       "Name: boxOffice, dtype: object"
      ]
     },
     "execution_count": 14,
     "metadata": {},
     "output_type": "execute_result"
    }
   ],
   "source": [
    "# Inspecting movies_df visually\n",
    "\n",
    "movies_df['boxOffice'].sample(4)"
   ]
  },
  {
   "cell_type": "code",
   "execution_count": 15,
   "metadata": {},
   "outputs": [
    {
     "name": "stdout",
     "output_type": "stream",
     "text": [
      "<class 'pandas.core.series.Series'>\n",
      "RangeIndex: 143258 entries, 0 to 143257\n",
      "Series name: boxOffice\n",
      "Non-Null Count  Dtype \n",
      "--------------  ----- \n",
      "14743 non-null  object\n",
      "dtypes: object(1)\n",
      "memory usage: 1.1+ MB\n"
     ]
    }
   ],
   "source": [
    "# Inspecting movies_df programmatically\n",
    "movies_df['boxOffice'].info()"
   ]
  },
  {
   "cell_type": "markdown",
   "metadata": {},
   "source": [
    "**Issue and justification:**\n",
    "> After observing data types of our columns, we notice that dates stored in the database comes in formats other than a datetime. It's important to have them as datetime so we can be able to operate further date-logic to them when needed. Additionally, we inspected `boxOffice` values type, as they refer to revenue (numbers) but actually given as strings including signs and letters."
   ]
  },
  {
   "cell_type": "markdown",
   "metadata": {
    "id": "lXhGiYyiwwKN"
   },
   "source": [
    "### Tidiness Issue 1: Typo in column name\n",
    "\n",
    "We noticed a typo in a column name that might affect data interpretation."
   ]
  },
  {
   "cell_type": "code",
   "execution_count": 16,
   "metadata": {
    "id": "fleC5rORI0Xl"
   },
   "outputs": [
    {
     "data": {
      "text/html": [
       "<div>\n",
       "<style scoped>\n",
       "    .dataframe tbody tr th:only-of-type {\n",
       "        vertical-align: middle;\n",
       "    }\n",
       "\n",
       "    .dataframe tbody tr th {\n",
       "        vertical-align: top;\n",
       "    }\n",
       "\n",
       "    .dataframe thead th {\n",
       "        text-align: right;\n",
       "    }\n",
       "</style>\n",
       "<table border=\"1\" class=\"dataframe\">\n",
       "  <thead>\n",
       "    <tr style=\"text-align: right;\">\n",
       "      <th></th>\n",
       "      <th>id</th>\n",
       "      <th>reviewId</th>\n",
       "      <th>creationDate</th>\n",
       "      <th>criticName</th>\n",
       "      <th>isTopCritic</th>\n",
       "      <th>originalScore</th>\n",
       "      <th>reviewState</th>\n",
       "      <th>publicatioName</th>\n",
       "      <th>reviewText</th>\n",
       "      <th>scoreSentiment</th>\n",
       "      <th>reviewUrl</th>\n",
       "    </tr>\n",
       "  </thead>\n",
       "  <tbody>\n",
       "    <tr>\n",
       "      <th>973</th>\n",
       "      <td>unstrung_heroes</td>\n",
       "      <td>45082</td>\n",
       "      <td>2000-01-01</td>\n",
       "      <td>James Berardinelli</td>\n",
       "      <td>True</td>\n",
       "      <td>3/4</td>\n",
       "      <td>fresh</td>\n",
       "      <td>ReelViews</td>\n",
       "      <td>NaN</td>\n",
       "      <td>POSITIVE</td>\n",
       "      <td>http://www.reelviews.net/movies/u/unstrung.html</td>\n",
       "    </tr>\n",
       "  </tbody>\n",
       "</table>\n",
       "</div>"
      ],
      "text/plain": [
       "                  id  reviewId creationDate          criticName  isTopCritic  \\\n",
       "973  unstrung_heroes     45082   2000-01-01  James Berardinelli         True   \n",
       "\n",
       "    originalScore reviewState publicatioName reviewText scoreSentiment  \\\n",
       "973           3/4       fresh      ReelViews        NaN       POSITIVE   \n",
       "\n",
       "                                           reviewUrl  \n",
       "973  http://www.reelviews.net/movies/u/unstrung.html  "
      ]
     },
     "execution_count": 16,
     "metadata": {},
     "output_type": "execute_result"
    }
   ],
   "source": [
    "# Inspecting reviews_df visually\n",
    "reviews_df.sample(1)"
   ]
  },
  {
   "cell_type": "code",
   "execution_count": 17,
   "metadata": {
    "id": "BTuQw7Rbsio4"
   },
   "outputs": [
    {
     "name": "stdout",
     "output_type": "stream",
     "text": [
      "<class 'pandas.core.series.Series'>\n",
      "RangeIndex: 1444963 entries, 0 to 1444962\n",
      "Series name: publicatioName\n",
      "Non-Null Count    Dtype \n",
      "--------------    ----- \n",
      "1444963 non-null  object\n",
      "dtypes: object(1)\n",
      "memory usage: 11.0+ MB\n"
     ]
    }
   ],
   "source": [
    "# Inspecting reviews_df programmatically\n",
    "reviews_df['publicatioName'].info()"
   ]
  },
  {
   "cell_type": "markdown",
   "metadata": {},
   "source": [
    "**Issue and justification:**\n",
    "> In `reviews_df`, we see a typo in column `publicationName` as `publicatioName`, which affects the meaningfulness of the column name corresponding to its variables."
   ]
  },
  {
   "cell_type": "markdown",
   "metadata": {
    "id": "4ffMoRGSwzYj"
   },
   "source": [
    "### Tidiness Issue 2: Misleading column name\n",
    "\n",
    "Incomprehensible column name."
   ]
  },
  {
   "cell_type": "code",
   "execution_count": 18,
   "metadata": {},
   "outputs": [
    {
     "data": {
      "text/html": [
       "<div>\n",
       "<style scoped>\n",
       "    .dataframe tbody tr th:only-of-type {\n",
       "        vertical-align: middle;\n",
       "    }\n",
       "\n",
       "    .dataframe tbody tr th {\n",
       "        vertical-align: top;\n",
       "    }\n",
       "\n",
       "    .dataframe thead th {\n",
       "        text-align: right;\n",
       "    }\n",
       "</style>\n",
       "<table border=\"1\" class=\"dataframe\">\n",
       "  <thead>\n",
       "    <tr style=\"text-align: right;\">\n",
       "      <th></th>\n",
       "      <th>id</th>\n",
       "      <th>reviewId</th>\n",
       "      <th>creationDate</th>\n",
       "      <th>criticName</th>\n",
       "      <th>isTopCritic</th>\n",
       "      <th>originalScore</th>\n",
       "      <th>reviewState</th>\n",
       "      <th>publicatioName</th>\n",
       "      <th>reviewText</th>\n",
       "      <th>scoreSentiment</th>\n",
       "      <th>reviewUrl</th>\n",
       "    </tr>\n",
       "  </thead>\n",
       "  <tbody>\n",
       "    <tr>\n",
       "      <th>497536</th>\n",
       "      <td>gimme_the_loot_2012</td>\n",
       "      <td>2139850</td>\n",
       "      <td>2013-04-30</td>\n",
       "      <td>Dave Calhoun</td>\n",
       "      <td>True</td>\n",
       "      <td>3/5</td>\n",
       "      <td>rotten</td>\n",
       "      <td>Time Out</td>\n",
       "      <td>'Gimme the Loot' is ... meandering and a littl...</td>\n",
       "      <td>NEGATIVE</td>\n",
       "      <td>http://www.timeout.com/london/film/gimme-the-loot</td>\n",
       "    </tr>\n",
       "    <tr>\n",
       "      <th>207317</th>\n",
       "      <td>sharper</td>\n",
       "      <td>102778768</td>\n",
       "      <td>2023-02-10</td>\n",
       "      <td>Mick LaSalle</td>\n",
       "      <td>True</td>\n",
       "      <td>3/4</td>\n",
       "      <td>fresh</td>\n",
       "      <td>San Francisco Chronicle</td>\n",
       "      <td>“Sharper” works like a machine, and so it seem...</td>\n",
       "      <td>POSITIVE</td>\n",
       "      <td>https://datebook.sfchronicle.com/movies-tv/jul...</td>\n",
       "    </tr>\n",
       "  </tbody>\n",
       "</table>\n",
       "</div>"
      ],
      "text/plain": [
       "                         id   reviewId creationDate    criticName  \\\n",
       "497536  gimme_the_loot_2012    2139850   2013-04-30  Dave Calhoun   \n",
       "207317              sharper  102778768   2023-02-10  Mick LaSalle   \n",
       "\n",
       "        isTopCritic originalScore reviewState           publicatioName  \\\n",
       "497536         True           3/5      rotten                 Time Out   \n",
       "207317         True           3/4       fresh  San Francisco Chronicle   \n",
       "\n",
       "                                               reviewText scoreSentiment  \\\n",
       "497536  'Gimme the Loot' is ... meandering and a littl...       NEGATIVE   \n",
       "207317  “Sharper” works like a machine, and so it seem...       POSITIVE   \n",
       "\n",
       "                                                reviewUrl  \n",
       "497536  http://www.timeout.com/london/film/gimme-the-loot  \n",
       "207317  https://datebook.sfchronicle.com/movies-tv/jul...  "
      ]
     },
     "execution_count": 18,
     "metadata": {},
     "output_type": "execute_result"
    }
   ],
   "source": [
    "# Inspecting reviews_df visually\n",
    "reviews_df.sample(2)"
   ]
  },
  {
   "cell_type": "code",
   "execution_count": 19,
   "metadata": {
    "id": "c8JK4DoXxtFA"
   },
   "outputs": [
    {
     "data": {
      "text/plain": [
       "Index(['id', 'reviewId', 'creationDate', 'criticName', 'isTopCritic',\n",
       "       'originalScore', 'reviewState', 'publicatioName', 'reviewText',\n",
       "       'scoreSentiment', 'reviewUrl'],\n",
       "      dtype='object')"
      ]
     },
     "execution_count": 19,
     "metadata": {},
     "output_type": "execute_result"
    }
   ],
   "source": [
    "# Inspecting reviews_df programmatically\n",
    "reviews_df.columns"
   ]
  },
  {
   "cell_type": "code",
   "execution_count": 20,
   "metadata": {},
   "outputs": [
    {
     "data": {
      "text/plain": [
       "0                                    beavers\n",
       "1                                 blood_mask\n",
       "2          city_hunter_shinjuku_private_eyes\n",
       "3          city_hunter_shinjuku_private_eyes\n",
       "4                         dangerous_men_2015\n",
       "                         ...                \n",
       "1444958                thor_love_and_thunder\n",
       "1444959                thor_love_and_thunder\n",
       "1444960                thor_love_and_thunder\n",
       "1444961                thor_love_and_thunder\n",
       "1444962                thor_love_and_thunder\n",
       "Name: id, Length: 1444963, dtype: object"
      ]
     },
     "execution_count": 20,
     "metadata": {},
     "output_type": "execute_result"
    }
   ],
   "source": [
    "reviews_df['id']"
   ]
  },
  {
   "cell_type": "markdown",
   "metadata": {},
   "source": [
    "**Issue and justification:**\n",
    "> In `reviews_df`, we see the column `\"id\"` and it's not clear as to what it refers to and could be confused with `review_id`, so we should rename it `\"book_id\"` to have it actually correspond to the variable (i.e: books)."
   ]
  },
  {
   "cell_type": "markdown",
   "metadata": {
    "id": "D6gmLnBttpCh"
   },
   "source": [
    "## 3. Clean data\n",
    "\n",
    "\n",
    "We will be fixing the data issues mentioned above, and execute some extra clean-up along the way."
   ]
  },
  {
   "cell_type": "code",
   "execution_count": 21,
   "metadata": {},
   "outputs": [],
   "source": [
    "# Make copies of the datasets to ensure the raw dataframes are not impacted\n",
    "cleaned_movies = movies_df.copy()\n",
    "cleaned_reviews = reviews_df.copy()"
   ]
  },
  {
   "cell_type": "markdown",
   "metadata": {
    "id": "FmFhN52Yyn3l"
   },
   "source": [
    "### **Quality Issue 1: Completeness**"
   ]
  },
  {
   "cell_type": "code",
   "execution_count": 22,
   "metadata": {
    "id": "9UejDWrNMW4a"
   },
   "outputs": [
    {
     "data": {
      "text/plain": [
       "id                           0\n",
       "title                      367\n",
       "audienceScore            70010\n",
       "tomatoMeter             109381\n",
       "rating                  129267\n",
       "ratingContents          129267\n",
       "releaseDateTheaters     112485\n",
       "releaseDateStreaming     63838\n",
       "runtimeMinutes           13827\n",
       "genre                    11083\n",
       "originalLanguage         13858\n",
       "director                  4217\n",
       "writer                   53142\n",
       "boxOffice               128515\n",
       "distributor             120257\n",
       "soundMix                127341\n",
       "dtype: int64"
      ]
     },
     "execution_count": 22,
     "metadata": {},
     "output_type": "execute_result"
    }
   ],
   "source": [
    "cleaned_movies.isnull().sum()"
   ]
  },
  {
   "cell_type": "code",
   "execution_count": 23,
   "metadata": {
    "id": "9UejDWrNMW4a"
   },
   "outputs": [
    {
     "data": {
      "text/plain": [
       "id                     0\n",
       "reviewId               0\n",
       "creationDate           0\n",
       "criticName             0\n",
       "isTopCritic            0\n",
       "originalScore     435218\n",
       "reviewState            0\n",
       "publicatioName         0\n",
       "reviewText         69225\n",
       "scoreSentiment         0\n",
       "reviewUrl         210925\n",
       "dtype: int64"
      ]
     },
     "execution_count": 23,
     "metadata": {},
     "output_type": "execute_result"
    }
   ],
   "source": [
    "cleaned_reviews.isnull().sum()"
   ]
  },
  {
   "cell_type": "code",
   "execution_count": 24,
   "metadata": {},
   "outputs": [],
   "source": [
    "cleaned_movies.dropna(inplace=True)"
   ]
  },
  {
   "cell_type": "code",
   "execution_count": 25,
   "metadata": {},
   "outputs": [],
   "source": [
    "cleaned_reviews.dropna(inplace=True)"
   ]
  },
  {
   "cell_type": "code",
   "execution_count": 26,
   "metadata": {
    "id": "oUBee-LPytkv"
   },
   "outputs": [
    {
     "data": {
      "text/plain": [
       "id                      0\n",
       "title                   0\n",
       "audienceScore           0\n",
       "tomatoMeter             0\n",
       "rating                  0\n",
       "ratingContents          0\n",
       "releaseDateTheaters     0\n",
       "releaseDateStreaming    0\n",
       "runtimeMinutes          0\n",
       "genre                   0\n",
       "originalLanguage        0\n",
       "director                0\n",
       "writer                  0\n",
       "boxOffice               0\n",
       "distributor             0\n",
       "soundMix                0\n",
       "dtype: int64"
      ]
     },
     "execution_count": 26,
     "metadata": {},
     "output_type": "execute_result"
    }
   ],
   "source": [
    "cleaned_movies.isna().sum()"
   ]
  },
  {
   "cell_type": "code",
   "execution_count": 27,
   "metadata": {
    "id": "oUBee-LPytkv"
   },
   "outputs": [
    {
     "data": {
      "text/plain": [
       "id                0\n",
       "reviewId          0\n",
       "creationDate      0\n",
       "criticName        0\n",
       "isTopCritic       0\n",
       "originalScore     0\n",
       "reviewState       0\n",
       "publicatioName    0\n",
       "reviewText        0\n",
       "scoreSentiment    0\n",
       "reviewUrl         0\n",
       "dtype: int64"
      ]
     },
     "execution_count": 27,
     "metadata": {},
     "output_type": "execute_result"
    }
   ],
   "source": [
    "cleaned_reviews.isna().sum()"
   ]
  },
  {
   "cell_type": "markdown",
   "metadata": {},
   "source": [
    "**Issue and justification:**\n",
    "> We dropped some columns which have over 90% of null values, so they really won't serve us as much. We also dropped all null values to prevent affecting our data findings, and yet we still have a large amount of remaining records."
   ]
  },
  {
   "cell_type": "markdown",
   "metadata": {
    "id": "n_DAUbJrymBL"
   },
   "source": [
    "### **Quality Issue 2: Validity**"
   ]
  },
  {
   "cell_type": "markdown",
   "metadata": {},
   "source": [
    "#### 2.1:"
   ]
  },
  {
   "cell_type": "code",
   "execution_count": 28,
   "metadata": {
    "id": "5Yfb-Yu5MTuE"
   },
   "outputs": [],
   "source": [
    "cleaned_movies['releaseDateStreaming'] = pd.to_datetime(cleaned_movies['releaseDateStreaming'])"
   ]
  },
  {
   "cell_type": "code",
   "execution_count": 29,
   "metadata": {
    "id": "5Yfb-Yu5MTuE"
   },
   "outputs": [],
   "source": [
    "cleaned_reviews['creationDate'] = pd.to_datetime(cleaned_reviews['creationDate'])"
   ]
  },
  {
   "cell_type": "code",
   "execution_count": 30,
   "metadata": {
    "scrolled": true
   },
   "outputs": [
    {
     "name": "stdout",
     "output_type": "stream",
     "text": [
      "<class 'pandas.core.series.Series'>\n",
      "Index: 3128 entries, 88 to 143250\n",
      "Series name: releaseDateStreaming\n",
      "Non-Null Count  Dtype         \n",
      "--------------  -----         \n",
      "3128 non-null   datetime64[ns]\n",
      "dtypes: datetime64[ns](1)\n",
      "memory usage: 48.9 KB\n"
     ]
    }
   ],
   "source": [
    "cleaned_movies['releaseDateStreaming'].info()"
   ]
  },
  {
   "cell_type": "code",
   "execution_count": 31,
   "metadata": {
    "scrolled": true
   },
   "outputs": [
    {
     "name": "stdout",
     "output_type": "stream",
     "text": [
      "<class 'pandas.core.series.Series'>\n",
      "Index: 824198 entries, 0 to 1444962\n",
      "Series name: creationDate\n",
      "Non-Null Count   Dtype         \n",
      "--------------   -----         \n",
      "824198 non-null  datetime64[ns]\n",
      "dtypes: datetime64[ns](1)\n",
      "memory usage: 12.6 MB\n"
     ]
    }
   ],
   "source": [
    "cleaned_reviews['creationDate'].info()"
   ]
  },
  {
   "cell_type": "markdown",
   "metadata": {},
   "source": [
    "#### 2.2:"
   ]
  },
  {
   "cell_type": "markdown",
   "metadata": {},
   "source": [
    "Parse $, M and K and convert into integers:"
   ]
  },
  {
   "cell_type": "code",
   "execution_count": 32,
   "metadata": {},
   "outputs": [],
   "source": [
    "cleaned_movies['boxOffice'] = cleaned_movies['boxOffice'].str.replace(\"$\", \"\").str.replace(\",\", \"\")"
   ]
  },
  {
   "cell_type": "code",
   "execution_count": 33,
   "metadata": {},
   "outputs": [],
   "source": [
    "cleaned_movies['boxOffice'] = cleaned_movies['boxOffice'].replace({\"K\":\"*1e3\", \"M\":\"*1e6\"}, regex=True).map(pd.eval).astype(int)"
   ]
  },
  {
   "cell_type": "code",
   "execution_count": 34,
   "metadata": {},
   "outputs": [
    {
     "name": "stdout",
     "output_type": "stream",
     "text": [
      "<class 'pandas.core.series.Series'>\n",
      "Index: 3128 entries, 88 to 143250\n",
      "Series name: boxOffice\n",
      "Non-Null Count  Dtype\n",
      "--------------  -----\n",
      "3128 non-null   int64\n",
      "dtypes: int64(1)\n",
      "memory usage: 48.9 KB\n"
     ]
    }
   ],
   "source": [
    "cleaned_movies['boxOffice'].info()"
   ]
  },
  {
   "cell_type": "markdown",
   "metadata": {},
   "source": [
    "**Issue and justification:**\n",
    "> First we converted all date values into datetime format, to enable any future functions being performed on dates. Additionally, we parsed all signs from `box_office` column values and then converted them into integers so we can work on them later effectively."
   ]
  },
  {
   "cell_type": "markdown",
   "metadata": {
    "id": "bIUrrfSNyOPR"
   },
   "source": [
    "### **Tidiness Issue 1: Typo in column name**"
   ]
  },
  {
   "cell_type": "code",
   "execution_count": 35,
   "metadata": {
    "id": "fib0zAm333bn"
   },
   "outputs": [],
   "source": [
    "cleaned_reviews.rename(columns={'publicatioName': 'publicationName'}, inplace=True)"
   ]
  },
  {
   "cell_type": "code",
   "execution_count": 36,
   "metadata": {},
   "outputs": [
    {
     "data": {
      "text/plain": [
       "Index(['id', 'reviewId', 'creationDate', 'criticName', 'isTopCritic',\n",
       "       'originalScore', 'reviewState', 'publicationName', 'reviewText',\n",
       "       'scoreSentiment', 'reviewUrl'],\n",
       "      dtype='object')"
      ]
     },
     "execution_count": 36,
     "metadata": {},
     "output_type": "execute_result"
    }
   ],
   "source": [
    "cleaned_reviews.columns"
   ]
  },
  {
   "cell_type": "markdown",
   "metadata": {},
   "source": [
    "**Issue and justification:**\n",
    "> Because we had a wrong column name, we renamed and fixed it into a comprehensible name so it can correctly correspond to variables in the dataset."
   ]
  },
  {
   "cell_type": "markdown",
   "metadata": {
    "id": "o51Bt8kwyTzk"
   },
   "source": [
    "### **Tidiness Issue 2: Misleading column name**"
   ]
  },
  {
   "cell_type": "code",
   "execution_count": 37,
   "metadata": {
    "id": "7zW8O5yx4Y9O"
   },
   "outputs": [],
   "source": [
    "cleaned_reviews.rename(columns={'id': 'book_id'}, inplace=True)"
   ]
  },
  {
   "cell_type": "code",
   "execution_count": 38,
   "metadata": {
    "id": "7zW8O5yx4Y9O"
   },
   "outputs": [],
   "source": [
    "cleaned_movies.rename(columns={'id': 'book_id'}, inplace=True)"
   ]
  },
  {
   "cell_type": "code",
   "execution_count": 39,
   "metadata": {
    "id": "q6I_Sr7lxXi5"
   },
   "outputs": [
    {
     "data": {
      "text/plain": [
       "0                                    beavers\n",
       "1                                 blood_mask\n",
       "3          city_hunter_shinjuku_private_eyes\n",
       "5                         dangerous_men_2015\n",
       "6                         dangerous_men_2015\n",
       "                         ...                \n",
       "1444958                thor_love_and_thunder\n",
       "1444959                thor_love_and_thunder\n",
       "1444960                thor_love_and_thunder\n",
       "1444961                thor_love_and_thunder\n",
       "1444962                thor_love_and_thunder\n",
       "Name: book_id, Length: 824198, dtype: object"
      ]
     },
     "execution_count": 39,
     "metadata": {},
     "output_type": "execute_result"
    }
   ],
   "source": [
    "cleaned_reviews['book_id']"
   ]
  },
  {
   "cell_type": "code",
   "execution_count": 40,
   "metadata": {
    "id": "q6I_Sr7lxXi5"
   },
   "outputs": [
    {
     "data": {
      "text/plain": [
       "88             monsoon_wedding\n",
       "146            robin_hood_2018\n",
       "151                   my_giant\n",
       "273       west_side_story_2021\n",
       "308                 youth_2015\n",
       "                  ...         \n",
       "143000             perfect_man\n",
       "143008        sex_and_the_city\n",
       "143012            1040484-wind\n",
       "143025        invisible_circus\n",
       "143250                fun_size\n",
       "Name: book_id, Length: 3128, dtype: object"
      ]
     },
     "execution_count": 40,
     "metadata": {},
     "output_type": "execute_result"
    }
   ],
   "source": [
    "cleaned_movies['book_id']"
   ]
  },
  {
   "cell_type": "code",
   "execution_count": 41,
   "metadata": {},
   "outputs": [
    {
     "data": {
      "text/html": [
       "<div>\n",
       "<style scoped>\n",
       "    .dataframe tbody tr th:only-of-type {\n",
       "        vertical-align: middle;\n",
       "    }\n",
       "\n",
       "    .dataframe tbody tr th {\n",
       "        vertical-align: top;\n",
       "    }\n",
       "\n",
       "    .dataframe thead th {\n",
       "        text-align: right;\n",
       "    }\n",
       "</style>\n",
       "<table border=\"1\" class=\"dataframe\">\n",
       "  <thead>\n",
       "    <tr style=\"text-align: right;\">\n",
       "      <th></th>\n",
       "      <th>book_id</th>\n",
       "      <th>reviewId</th>\n",
       "      <th>creationDate</th>\n",
       "      <th>criticName</th>\n",
       "      <th>isTopCritic</th>\n",
       "      <th>originalScore</th>\n",
       "      <th>reviewState</th>\n",
       "      <th>publicationName</th>\n",
       "      <th>reviewText</th>\n",
       "      <th>scoreSentiment</th>\n",
       "      <th>reviewUrl</th>\n",
       "    </tr>\n",
       "  </thead>\n",
       "  <tbody>\n",
       "    <tr>\n",
       "      <th>0</th>\n",
       "      <td>beavers</td>\n",
       "      <td>1145982</td>\n",
       "      <td>2003-05-23</td>\n",
       "      <td>Ivan M. Lincoln</td>\n",
       "      <td>False</td>\n",
       "      <td>3.5/4</td>\n",
       "      <td>fresh</td>\n",
       "      <td>Deseret News (Salt Lake City)</td>\n",
       "      <td>Timed to be just long enough for most youngste...</td>\n",
       "      <td>POSITIVE</td>\n",
       "      <td>http://www.deseretnews.com/article/700003233/B...</td>\n",
       "    </tr>\n",
       "    <tr>\n",
       "      <th>1</th>\n",
       "      <td>blood_mask</td>\n",
       "      <td>1636744</td>\n",
       "      <td>2007-06-02</td>\n",
       "      <td>The Foywonder</td>\n",
       "      <td>False</td>\n",
       "      <td>1/5</td>\n",
       "      <td>rotten</td>\n",
       "      <td>Dread Central</td>\n",
       "      <td>It doesn't matter if a movie costs 300 million...</td>\n",
       "      <td>NEGATIVE</td>\n",
       "      <td>http://www.dreadcentral.com/index.php?name=Rev...</td>\n",
       "    </tr>\n",
       "  </tbody>\n",
       "</table>\n",
       "</div>"
      ],
      "text/plain": [
       "      book_id  reviewId creationDate       criticName  isTopCritic  \\\n",
       "0     beavers   1145982   2003-05-23  Ivan M. Lincoln        False   \n",
       "1  blood_mask   1636744   2007-06-02    The Foywonder        False   \n",
       "\n",
       "  originalScore reviewState                publicationName  \\\n",
       "0         3.5/4       fresh  Deseret News (Salt Lake City)   \n",
       "1           1/5      rotten                  Dread Central   \n",
       "\n",
       "                                          reviewText scoreSentiment  \\\n",
       "0  Timed to be just long enough for most youngste...       POSITIVE   \n",
       "1  It doesn't matter if a movie costs 300 million...       NEGATIVE   \n",
       "\n",
       "                                           reviewUrl  \n",
       "0  http://www.deseretnews.com/article/700003233/B...  \n",
       "1  http://www.dreadcentral.com/index.php?name=Rev...  "
      ]
     },
     "execution_count": 41,
     "metadata": {},
     "output_type": "execute_result"
    }
   ],
   "source": [
    "cleaned_reviews.head(2)"
   ]
  },
  {
   "cell_type": "markdown",
   "metadata": {},
   "source": [
    "**Issue and justification:**\n",
    "> We renamed column \"id\" to be \"book_id\" as it can be misleading especially in the reveiws dataset, and one can confuse it with \"review_id\". We matched both column names in both datasets so we can join them together later."
   ]
  },
  {
   "cell_type": "markdown",
   "metadata": {},
   "source": [
    "### **Remove unnecessary variables and combine datasets**\n"
   ]
  },
  {
   "cell_type": "markdown",
   "metadata": {},
   "source": [
    "1/ Remove unnecessary variables."
   ]
  },
  {
   "cell_type": "code",
   "execution_count": 42,
   "metadata": {},
   "outputs": [],
   "source": [
    "# Remove unnecessary variables and combine datasets\n",
    "cleaned_movies.drop(columns=['soundMix', 'distributor',\n",
    "                             'releaseDateTheaters', 'tomatoMeter', \n",
    "                             'ratingContents', 'writer'], inplace=True)"
   ]
  },
  {
   "cell_type": "code",
   "execution_count": 43,
   "metadata": {},
   "outputs": [],
   "source": [
    "# Remove unnecessary variables and combine datasets\n",
    "cleaned_reviews.drop(columns=['reviewState', 'publicationName',\n",
    "                              'reviewId', 'isTopCritic' , 'creationDate'], inplace=True)"
   ]
  },
  {
   "cell_type": "markdown",
   "metadata": {},
   "source": [
    "2/ Rename and convert column names to snake case for better readability."
   ]
  },
  {
   "cell_type": "code",
   "execution_count": 44,
   "metadata": {},
   "outputs": [],
   "source": [
    "cleaned_reviews.rename(columns={'originalScore': 'critic_score',\n",
    "                                'scoreSentiment': 'critic_score_sentiment',\n",
    "                                'criticName': 'critic_name',\n",
    "                                'reviewText': 'review_text',\n",
    "                                'reviewUrl': 'review_url'\n",
    "                               }, inplace=True)"
   ]
  },
  {
   "cell_type": "code",
   "execution_count": 45,
   "metadata": {},
   "outputs": [],
   "source": [
    "cleaned_movies.rename(columns={'audienceScore': 'audience_score',\n",
    "                                'releaseDateStreaming': 'release_date_streaming',\n",
    "                                'runtimeMinutes': 'duration',\n",
    "                                'originalLanguage': 'language',\n",
    "                                'boxOffice': 'box_office' }, inplace=True)"
   ]
  },
  {
   "cell_type": "markdown",
   "metadata": {
    "id": "F42urHuzttjF"
   },
   "source": [
    "## 4. Update your data store\n",
    "Update your local database/data store with the cleaned data, following best practices for storing your cleaned data:\n",
    "\n",
    "- Must maintain different instances / versions of data (raw and cleaned data)\n",
    "- Must name the dataset files informatively\n",
    "- Ensure both the raw and cleaned data is saved to your database/data store"
   ]
  },
  {
   "cell_type": "code",
   "execution_count": 46,
   "metadata": {
    "id": "V3uay7EJUV_L"
   },
   "outputs": [],
   "source": [
    "# Merge data\n",
    "merged_df = pd.merge(cleaned_movies, cleaned_reviews, on=['book_id'], how='left')"
   ]
  },
  {
   "cell_type": "code",
   "execution_count": 47,
   "metadata": {},
   "outputs": [],
   "source": [
    "merged_df.to_csv(\"movies_cleaned_dataset.csv\", index=False, encoding=\"utf-8\")"
   ]
  },
  {
   "cell_type": "code",
   "execution_count": 48,
   "metadata": {},
   "outputs": [
    {
     "data": {
      "text/html": [
       "<div>\n",
       "<style scoped>\n",
       "    .dataframe tbody tr th:only-of-type {\n",
       "        vertical-align: middle;\n",
       "    }\n",
       "\n",
       "    .dataframe tbody tr th {\n",
       "        vertical-align: top;\n",
       "    }\n",
       "\n",
       "    .dataframe thead th {\n",
       "        text-align: right;\n",
       "    }\n",
       "</style>\n",
       "<table border=\"1\" class=\"dataframe\">\n",
       "  <thead>\n",
       "    <tr style=\"text-align: right;\">\n",
       "      <th></th>\n",
       "      <th>book_id</th>\n",
       "      <th>title</th>\n",
       "      <th>audience_score</th>\n",
       "      <th>rating</th>\n",
       "      <th>release_date_streaming</th>\n",
       "      <th>duration</th>\n",
       "      <th>genre</th>\n",
       "      <th>language</th>\n",
       "      <th>director</th>\n",
       "      <th>box_office</th>\n",
       "      <th>critic_name</th>\n",
       "      <th>critic_score</th>\n",
       "      <th>review_text</th>\n",
       "      <th>critic_score_sentiment</th>\n",
       "      <th>review_url</th>\n",
       "    </tr>\n",
       "  </thead>\n",
       "  <tbody>\n",
       "    <tr>\n",
       "      <th>0</th>\n",
       "      <td>monsoon_wedding</td>\n",
       "      <td>Monsoon Wedding</td>\n",
       "      <td>87.0</td>\n",
       "      <td>R</td>\n",
       "      <td>2002-09-24</td>\n",
       "      <td>100.0</td>\n",
       "      <td>Comedy, Drama</td>\n",
       "      <td>English</td>\n",
       "      <td>Mira Nair</td>\n",
       "      <td>13900000</td>\n",
       "      <td>Jimmy Cage</td>\n",
       "      <td>9/10</td>\n",
       "      <td>MONSOON WEDDING is a wonderful film in which m...</td>\n",
       "      <td>POSITIVE</td>\n",
       "      <td>https://youtu.be/m8of8Xpd1UA</td>\n",
       "    </tr>\n",
       "    <tr>\n",
       "      <th>1</th>\n",
       "      <td>monsoon_wedding</td>\n",
       "      <td>Monsoon Wedding</td>\n",
       "      <td>87.0</td>\n",
       "      <td>R</td>\n",
       "      <td>2002-09-24</td>\n",
       "      <td>100.0</td>\n",
       "      <td>Comedy, Drama</td>\n",
       "      <td>English</td>\n",
       "      <td>Mira Nair</td>\n",
       "      <td>13900000</td>\n",
       "      <td>Brian Eggert</td>\n",
       "      <td>4/4</td>\n",
       "      <td>A celebration of life that acknowledges how fa...</td>\n",
       "      <td>POSITIVE</td>\n",
       "      <td>https://deepfocusreview.com/reviews/monsoon-we...</td>\n",
       "    </tr>\n",
       "  </tbody>\n",
       "</table>\n",
       "</div>"
      ],
      "text/plain": [
       "           book_id            title  audience_score rating  \\\n",
       "0  monsoon_wedding  Monsoon Wedding            87.0      R   \n",
       "1  monsoon_wedding  Monsoon Wedding            87.0      R   \n",
       "\n",
       "  release_date_streaming  duration          genre language   director  \\\n",
       "0             2002-09-24     100.0  Comedy, Drama  English  Mira Nair   \n",
       "1             2002-09-24     100.0  Comedy, Drama  English  Mira Nair   \n",
       "\n",
       "   box_office   critic_name critic_score  \\\n",
       "0    13900000    Jimmy Cage         9/10   \n",
       "1    13900000  Brian Eggert          4/4   \n",
       "\n",
       "                                         review_text critic_score_sentiment  \\\n",
       "0  MONSOON WEDDING is a wonderful film in which m...               POSITIVE   \n",
       "1  A celebration of life that acknowledges how fa...               POSITIVE   \n",
       "\n",
       "                                          review_url  \n",
       "0                       https://youtu.be/m8of8Xpd1UA  \n",
       "1  https://deepfocusreview.com/reviews/monsoon-we...  "
      ]
     },
     "execution_count": 48,
     "metadata": {},
     "output_type": "execute_result"
    }
   ],
   "source": [
    "merged_df.head(2)"
   ]
  },
  {
   "cell_type": "markdown",
   "metadata": {
    "id": "cGy_yddGtzhM"
   },
   "source": [
    "## 5. Answer the research question\n",
    "\n",
    "### **5.1:** Define and answer the research question."
   ]
  },
  {
   "cell_type": "markdown",
   "metadata": {
    "id": "gjedE4s4ZkEd"
   },
   "source": [
    "**Research question:** Is there's a correlation between movies that have the highest rating, and movies that have the max box office (revenue)?"
   ]
  },
  {
   "cell_type": "code",
   "execution_count": 49,
   "metadata": {
    "id": "Lkw3rW9kZmOm"
   },
   "outputs": [
    {
     "data": {
      "image/png": "[encoded data removed]",
      "text/plain": [
       "<Figure size 800x600 with 1 Axes>"
      ]
     },
     "metadata": {},
     "output_type": "display_data"
    }
   ],
   "source": [
    "#Visual 1\n",
    "\n",
    "plt.figure(figsize=(8, 6))\n",
    "\n",
    "# getting top rated\n",
    "top_rated = merged_df.groupby('title')['audience_score'].max().sort_values(ascending=False)\n",
    "highest = top_rated.head(6)\n",
    "\n",
    "# plotting\n",
    "highest.plot(kind='bar')\n",
    "plt.xlabel('Movie title')\n",
    "plt.ylabel('Score (X/100)')\n",
    "plt.title('Highest rated movies by audience (X/100)')\n",
    "plt.xticks(rotation=20, ha='right')\n",
    "plt.show()"
   ]
  },
  {
   "cell_type": "code",
   "execution_count": 50,
   "metadata": {},
   "outputs": [
    {
     "data": {
      "text/plain": [
       "title\n",
       "Top Gun: Maverick           99.0\n",
       "The Woman King              99.0\n",
       "Just Mercy                  99.0\n",
       "The Shawshank Redemption    98.0\n",
       "King Richard                98.0\n",
       "                            ... \n",
       "Rollerball                  14.0\n",
       "Simpatico                   14.0\n",
       "Battlefield Earth           12.0\n",
       "Alone in the Dark           11.0\n",
       "House of the Dead           10.0\n",
       "Name: audience_score, Length: 3091, dtype: float64"
      ]
     },
     "execution_count": 50,
     "metadata": {},
     "output_type": "execute_result"
    }
   ],
   "source": [
    "top_rated"
   ]
  },
  {
   "cell_type": "code",
   "execution_count": 51,
   "metadata": {
    "id": "Lkw3rW9kZmOm",
    "scrolled": true
   },
   "outputs": [
    {
     "data": {
      "image/png": "[encoded data removed]",
      "text/plain": [
       "<Figure size 800x400 with 1 Axes>"
      ]
     },
     "metadata": {},
     "output_type": "display_data"
    }
   ],
   "source": [
    "#Visual 2\n",
    "\n",
    "plt.figure(figsize=(8, 4))\n",
    "\n",
    "# getting top revenue\n",
    "top_revenue = merged_df.groupby('title')['box_office'].max().sort_values(ascending=False)\n",
    "highest = top_revenue.head(5)\n",
    "\n",
    "# to show full y-axis values\n",
    "plt.gca().yaxis.set_major_formatter(mpl.ticker.StrMethodFormatter('{x:,.0f}'))\n",
    "\n",
    "# plotting\n",
    "highest.plot(kind='bar')\n",
    "plt.xlabel('Movie title')\n",
    "plt.ylabel('Revenue')\n",
    "plt.title('Highest movie in revenues')\n",
    "plt.xticks(rotation=35)\n",
    "\n",
    "plt.show()"
   ]
  },
  {
   "cell_type": "code",
   "execution_count": 52,
   "metadata": {},
   "outputs": [
    {
     "data": {
      "text/plain": [
       "title\n",
       "Avengers: Endgame               858400000\n",
       "Top Gun: Maverick               718500000\n",
       "Black Panther                   700200000\n",
       "Avengers: Infinity War          678800000\n",
       "Avatar: The Way of Water        678300000\n",
       "                                  ...    \n",
       "The Jimmy Show                        703\n",
       "Pete's Dragon                         555\n",
       "Star Wars: The Force Awakens          123\n",
       "The Dark Knight Rises                   2\n",
       "Mulholland Dr.                          0\n",
       "Name: box_office, Length: 3091, dtype: int64"
      ]
     },
     "execution_count": 52,
     "metadata": {},
     "output_type": "execute_result"
    }
   ],
   "source": [
    "top_revenue"
   ]
  },
  {
   "cell_type": "markdown",
   "metadata": {
    "id": "K5RgvMGUZoHn"
   },
   "source": [
    "**Answer to research question:**\n",
    "> There seems so be only 1 recurrent movie in both visuals of top 6 movies, which isn't enough to confirm the correlation, but i assume that it could be partially correlated if we go further and explore the top 10 or 20. Some movies of very high rating in Rotten Tomatoes didn't have the best revenue compared to others."
   ]
  },
  {
   "cell_type": "markdown",
   "metadata": {
    "id": "0ezWXXZVj-TP"
   },
   "source": [
    "### **5.2:** Reflection\n",
    "In 2-4 sentences, if you had more time to complete the project, what actions would you take? For example, which data quality and structural issues would you look into further, and what research questions would you further explore?"
   ]
  },
  {
   "cell_type": "markdown",
   "metadata": {
    "id": "XB3RBDG5kFe1"
   },
   "source": [
    "**Answer:**\n",
    "> I would go further on assessing the data and investigate all data types and check whether they are in a correct format. I would ask different questions and extract more meaningful findings about the data."
   ]
  },
  {
   "cell_type": "markdown",
   "metadata": {},
   "source": [
    "### Resources used that helped me complete this project:"
   ]
  },
  {
   "cell_type": "markdown",
   "metadata": {},
   "source": [
    "- https://stackoverflow.com/questions/25973581/how-to-format-axis-number-format-to-thousands-with-a-comma\n",
    "- https://medium.com/@antonin.puskarcik/how-to-get-kaggle-dataset-through-api-using-python-8ead6a58d68b"
   ]
  }
 ],
 "metadata": {
  "colab": {
   "provenance": []
  },
  "kernelspec": {
   "display_name": "Python 3 (ipykernel)",
   "language": "python",
   "name": "python3"
  },
  "language_info": {
   "codemirror_mode": {
    "name": "ipython",
    "version": 3
   },
   "file_extension": ".py",
   "mimetype": "text/x-python",
   "name": "python",
   "nbconvert_exporter": "python",
   "pygments_lexer": "ipython3",
   "version": "3.10.11"
  }
 },
 "nbformat": 4,
 "nbformat_minor": 1
}
